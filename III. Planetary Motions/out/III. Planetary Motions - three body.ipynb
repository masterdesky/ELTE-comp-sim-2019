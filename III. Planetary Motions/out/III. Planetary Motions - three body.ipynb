{
 "cells": [
  {
   "cell_type": "markdown",
   "metadata": {},
   "source": [
    "# Computer simulations course 2018/2019-2 @ ELTE\n",
    "# Assignment 3: Planetary Motions - Three-body problem\n",
    "## 03.03.2019"
   ]
  },
  {
   "cell_type": "code",
   "execution_count": null,
   "metadata": {},
   "outputs": [],
   "source": [
    "import numpy as np\n",
    "import matplotlib.pyplot as plt\n",
    "import seaborn as sns\n",
    "import random\n",
    "import os\n",
    "import sys\n",
    "from scipy import stats\n",
    "from datetime import datetime\n",
    "import time\n",
    "import imageio\n",
    "import os, shutil\n",
    "from matplotlib.patches import Circle\n",
    "from matplotlib.patches import Patch\n",
    "from matplotlib.lines import Line2D"
   ]
  },
  {
   "cell_type": "code",
   "execution_count": null,
   "metadata": {},
   "outputs": [],
   "source": [
    "sns.set_style(style='whitegrid')"
   ]
  },
  {
   "cell_type": "markdown",
   "metadata": {},
   "source": [
    "### Planets"
   ]
  },
  {
   "cell_type": "code",
   "execution_count": null,
   "metadata": {},
   "outputs": [],
   "source": [
    "# [Mass in kg,\n",
    "#  Distance from central celestail body in AU,\n",
    "#  eccentricity,\n",
    "#  Size in AU]\n",
    "Planets={\n",
    "    'Sun': [1.989e30, 0, 0.0001, 4.649e-03],\n",
    "    'Moon': [7.348e22, 0.00257, 0.0549, 1.161e-05],\n",
    "    'Mercury': [3.285e23, 0.466697, 0.205630, 1.631e-05],\n",
    "    'Venus': [4.867e24, 0.728213, 0.006772, 4.045e-05],\n",
    "    'Earth': [5.972e24, 1.017, 0.0167086, 4.259e-05],\n",
    "    'Mars': [6.39e23, 1.666, 0.0934, 2.266e-05],\n",
    "    'Jupiter': [1.898e27, 5.4588, 0.0489, 4.673e-04],\n",
    "    'Saturn': [5.683e26, 10.1238, 0.0565, 3.893e-04],\n",
    "    'Uranus': [8.681e25, 20.11, 0.046381, 1.695e-04],\n",
    "    'Neptune': [1.024e26, 30.33, 0.009456, 1.646e-04],\n",
    "    'Pluto': [1.309e22, 49.305, 0.2488, 7.954e-06],\n",
    "    'Halley': [2.2e14, 35.082, 0.96714, 3.68e-08]\n",
    "}\n",
    "\n",
    "Planet_Colors={\n",
    "    'Sun': np.array([216, 148, 29])/255,\n",
    "    'Moon': np.array([204, 198, 195])/255,\n",
    "    'Mercury': np.array([186, 186, 186])/255,\n",
    "    'Venus': np.array([216, 194, 153])/255,\n",
    "    'Earth': np.array([45, 52, 130])/255,\n",
    "    'Mars': np.array([217, 120, 62])/255,\n",
    "    'Jupiter': np.array([187, 155, 99])/255,\n",
    "    'Saturn': np.array([222, 181, 82])/255,\n",
    "    'Uranus': np.array([201, 239, 241])/255,\n",
    "    'Neptune': np.array([72, 120, 242])/255,\n",
    "    'Pluto': np.array([65, 25, 20])/255,\n",
    "    'Halley': np.array([0,0,0])/255\n",
    "}"
   ]
  },
  {
   "cell_type": "markdown",
   "metadata": {},
   "source": [
    "## Initial conditions"
   ]
  },
  {
   "cell_type": "code",
   "execution_count": null,
   "metadata": {},
   "outputs": [],
   "source": [
    "choosen_planet_1 = 'Sun'\n",
    "choosen_planet_2 = 'Jupiter'\n",
    "\n",
    "# Gravitational constant [AU^3 * kg^-1 * year^-2]\n",
    "G = 1.9838e-29\n",
    "\n",
    "# Masses of choosen bodies [kg]\n",
    "if(choosen_planet_1 != ''):\n",
    "    m_1 = Planets[choosen_planet_1][0]\n",
    "else:\n",
    "    m_1 = Planets['Saturn'][0]\n",
    "\n",
    "if(choosen_planet_2 != ''):\n",
    "    m_2 = Planets[choosen_planet_2][0]\n",
    "else:\n",
    "    m_2 = Planets['Jupiter'][0]\n",
    "\n",
    "# Eccentricity of choosen bodies\n",
    "if(choosen_planet_1 != ''):\n",
    "    ecc_1 = Planets[choosen_planet_1][2]\n",
    "else:\n",
    "    ecc_1 = 0.6\n",
    "if(choosen_planet_2 != ''):\n",
    "    ecc_2 = Planets[choosen_planet_2][2]\n",
    "else:\n",
    "    ecc_2 = 0.8\n",
    "\n",
    "# Distance of the choosen bodies' center of mass [AU]\n",
    "if(choosen_planet_2 != ''):\n",
    "    r_dist = Planets[choosen_planet_2][1]\n",
    "else:\n",
    "    r_dist = 0.1\n",
    "\n",
    "# Step size\n",
    "dt = 5 * 1e-2\n",
    "# Adaptive accuracy of simulation\n",
    "accuracy = 1e-12\n",
    "\n",
    "# Calculated orbit parameters\n",
    "# r_ap: Apogee distance; measured from the system's center of mass\n",
    "# a: semi-major axis in [AU]\n",
    "# b: semi-minor axis in [AU]\n",
    "r_ap_1 = m_2/(m_1+m_2) * r_dist\n",
    "r_ap_2 = m_1/(m_1+m_2) * r_dist\n",
    "a_1 = r_ap_1 / (1 + ecc_1)\n",
    "a_2 = r_ap_2 / (1 + ecc_2)\n",
    "b_1 = np.sqrt(1 - ecc_1**2) * a_1\n",
    "b_2 = np.sqrt(1 - ecc_2**2) * a_2\n",
    "\n",
    "# Velocities in the apogee [AU/year]\n",
    "v0_1 = np.sqrt(G * m_2**3/(m_1 + m_2)**2 * (2 / r_ap_1 - 1 / a_1))  # Initial velocity of first body (tangential along y-axis) [AU/day]\n",
    "v0_2 = np.sqrt(G * m_1**3/(m_1 + m_2)**2 * (2 / r_ap_2 - 1 / a_2))  # Initial velocity of second body (tangential along y-axis) [AU/day]\n",
    "\n",
    "# Orbital period in [year]\n",
    "T = np.sqrt(4 * np.pi * np.pi * np.power(r_dist,3)/ (G * (m_1 + m_2)))\n",
    "\n",
    "# Number of years to plot\n",
    "plotting_years = 5 * T\n",
    "\n",
    "# Others\n",
    "steps = 1\n",
    "fps = 40\n",
    "image_dpi = 150\n",
    "image_format = 'pdf'\n",
    "image_path = '..\\\\Documentation\\\\src\\\\images\\\\three_body\\\\'"
   ]
  },
  {
   "cell_type": "code",
   "execution_count": null,
   "metadata": {},
   "outputs": [],
   "source": [
    "print('r_ap_1:', r_ap_1)\n",
    "print('r_ap_2:', r_ap_2)\n",
    "\n",
    "print('a_1:', a_1)\n",
    "print('a_2:', a_2)\n",
    "\n",
    "print('T:', T)\n",
    "\n",
    "print('v0_1:', v0_1)\n",
    "print('v0_2:', v0_2)"
   ]
  },
  {
   "cell_type": "markdown",
   "metadata": {},
   "source": [
    "## Generating small bodies"
   ]
  },
  {
   "cell_type": "code",
   "execution_count": null,
   "metadata": {},
   "outputs": [],
   "source": [
    "def sign_choose():\n",
    "    return -1 if random.random() < 0.5 else 1"
   ]
  },
  {
   "cell_type": "code",
   "execution_count": null,
   "metadata": {},
   "outputs": [],
   "source": [
    "half_number_of_bodies = 50\n",
    "\n",
    "coordinates_array = np.zeros((2*half_number_of_bodies, 5))\n",
    "\n",
    "nrows = 1\n",
    "ncols = 1\n",
    "picsize = 20\n",
    "fig, axes = plt.subplots(nrows=nrows, ncols=ncols, figsize=(ncols*(picsize)*(a_2/b_2),nrows*picsize))\n",
    "\n",
    "x_scatter = 0.1\n",
    "y_scatter = 0.1\n",
    "for i in range(0, half_number_of_bodies):\n",
    "    \n",
    "    # X coordinates\n",
    "    coordinates_array[i,1] = random.random() * a_2 * sign_choose()\n",
    "    # Y coordinates\n",
    "    coordinates_array[i,2] = b_2/a_2 * np.sqrt(a_2**2 - coordinates_array[i,1]**2) * sign_choose()\n",
    "    \n",
    "for i in range(half_number_of_bodies, 2*half_number_of_bodies):\n",
    "    \n",
    "    # Y coordinates\n",
    "    coordinates_array[i,2] = random.random() * b_2 * sign_choose()\n",
    "    # X coordinates\n",
    "    coordinates_array[i,1] = a_2/b_2 * np.sqrt(b_2**2 - coordinates_array[i,2]**2) * sign_choose()\n",
    "    \n",
    "# Scatter particles\n",
    "norm = 2.3\n",
    "for i in range(0, 2*half_number_of_bodies):\n",
    "    \n",
    "    coordinates_array[i,0] = random.random() * 1e15\n",
    "    coordinates_array[i,1] += random.random() * x_scatter * a_2 * sign_choose() - (a_2 - (1+ecc_2) * a_2)\n",
    "    coordinates_array[i,2] += random.random() * y_scatter * b_2 * sign_choose()\n",
    "    \n",
    "    # X velocities\n",
    "    if(coordinates_array[i,2] < 0):\n",
    "        coordinates_array[i,3] = -np.sqrt(np.abs(4 * np.pi * np.pi * (2/coordinates_array[i,1]) - 1/a_2))/norm\n",
    "    else:\n",
    "        coordinates_array[i,3] = np.sqrt(np.abs(4 * np.pi * np.pi * (2/coordinates_array[i,1]) - 1/a_2))/norm\n",
    "    \n",
    "    # Y velocities\n",
    "    if(coordinates_array[i,1] < 0):\n",
    "        coordinates_array[i,4] = np.sqrt(np.abs(4 * np.pi * np.pi * (2/coordinates_array[i,2]) - 1/a_2))/norm\n",
    "    else:\n",
    "        coordinates_array[i,4] = -np.sqrt(np.abs(4 * np.pi * np.pi * (2/coordinates_array[i,2]) - 1/a_2))/norm\n",
    "\n",
    "# Save to dat file\n",
    "np.savetxt('small_objects.dat', coordinates_array, delimiter='\\t')\n",
    "    \n",
    "axes.scatter(coordinates_array[::steps,1], coordinates_array[::steps,2])\n",
    "axes.scatter(coordinates_array[::steps,3], coordinates_array[::steps,4])\n",
    "plt.show()"
   ]
  },
  {
   "cell_type": "markdown",
   "metadata": {},
   "source": [
    "## Run simulation"
   ]
  },
  {
   "cell_type": "markdown",
   "metadata": {},
   "source": [
    "### Command line arguments"
   ]
  },
  {
   "cell_type": "code",
   "execution_count": null,
   "metadata": {},
   "outputs": [],
   "source": [
    "def mode_choose(mode, odeint, relat):\n",
    "    \n",
    "    current_mode = ('..\\Release\\kepler_three.exe ' +\n",
    "                    mode + ' ' +\n",
    "                    odeint + ' ' +\n",
    "                    relat + ' ' +\n",
    "                    str(m_1) + ' ' +\n",
    "                    str(m_2) + ' ' +\n",
    "                    str(r_dist) + ' ' +\n",
    "                    str(ecc_1) + ' ' +\n",
    "                    str(ecc_2) + ' ' +\n",
    "                    str(plotting_years) + ' ' +\n",
    "                    str(dt) + ' ' +\n",
    "                    str(accuracy) + ' ' +\n",
    "                    str(half_number_of_bodies * 2)\n",
    "                   )\n",
    "\n",
    "    return(current_mode)"
   ]
  },
  {
   "cell_type": "code",
   "execution_count": null,
   "metadata": {},
   "outputs": [],
   "source": [
    "current_mode = mode_choose(mode = 'fixed', odeint='runge', relat='no')\n",
    "os.system(current_mode)"
   ]
  },
  {
   "cell_type": "code",
   "execution_count": null,
   "metadata": {},
   "outputs": [],
   "source": [
    "data_fixed = np.genfromtxt('fixed.dat')"
   ]
  },
  {
   "cell_type": "code",
   "execution_count": null,
   "metadata": {},
   "outputs": [],
   "source": [
    "data_fixed.shape"
   ]
  },
  {
   "cell_type": "code",
   "execution_count": null,
   "metadata": {},
   "outputs": [],
   "source": [
    "data_small = np.genfromtxt('fixed_smalls.dat')"
   ]
  },
  {
   "cell_type": "code",
   "execution_count": null,
   "metadata": {},
   "outputs": [],
   "source": [
    "data_small.shape"
   ]
  },
  {
   "cell_type": "code",
   "execution_count": null,
   "metadata": {},
   "outputs": [],
   "source": [
    "nrows = 1\n",
    "ncols = 2\n",
    "picsize = 20\n",
    "fig, axes = plt.subplots(nrows=nrows, ncols=ncols, figsize=(ncols*(picsize)*(a_2/b_2),nrows*picsize))\n",
    "\n",
    "axes[0].add_patch(Circle(xy=(r_ap_1, 0), radius=Planets[choosen_planet_1][3], fc=Planet_Colors[choosen_planet_1], zorder=10))\n",
    "axes[1].add_patch(Circle(xy=(r_ap_1, 0), radius=Planets[choosen_planet_1][3], fc=Planet_Colors[choosen_planet_1], zorder=10))\n",
    "axes[0].add_patch(Circle(xy=(r_ap_1, 0), radius=Planets[choosen_planet_1][3], fc=Planet_Colors[choosen_planet_1], zorder=10))\n",
    "axes[1].add_patch(Circle(xy=(r_ap_1, 0), radius=Planets[choosen_planet_1][3], fc=Planet_Colors[choosen_planet_1], zorder=10))\n",
    "\n",
    "axes[0].plot(data_fixed[::steps,1], data_fixed[::steps,2], c='red')\n",
    "axes[0].plot(data_fixed[::steps,6], data_fixed[::steps,7], c='green', lw=5)\n",
    "axes[1].plot(data_fixed[::steps,1], data_fixed[::steps,2], c='red')\n",
    "axes[1].plot(data_fixed[::steps,6], data_fixed[::steps,7], c='green', lw=5)\n",
    "\n",
    "maximum_range = 15\n",
    "\n",
    "axes[0].set_xlim(-maximum_range,maximum_range)\n",
    "axes[0].set_ylim(-maximum_range,maximum_range)\n",
    "axes[1].set_xlim(-10*maximum_range,10*maximum_range)\n",
    "axes[1].set_ylim(-10*maximum_range,10*maximum_range)\n",
    "\n",
    "for i in range(0,half_number_of_bodies*2):\n",
    "    if(max(np.abs(data_small[::steps,1+i*5])) > maximum_range or\n",
    "       max(np.abs(data_small[::steps,2+i*5])) > maximum_range):\n",
    "        axes[1].plot(data_small[::steps,1+i*5],data_small[::steps,2+i*5])\n",
    "    else:\n",
    "        axes[0].plot(data_small[::steps,1+i*5],data_small[::steps,2+i*5])\n",
    "\n",
    "axes[0].set_title('Fixed step propagation\\nStable Bodies', fontsize=40)\n",
    "axes[1].set_title('Fixed step propagation\\nUnstable Bodies', fontsize=40)\n",
    "\n",
    "axes[0].set_xlabel('Distance from center of mass along X [AU]', fontsize=40)\n",
    "axes[0].set_ylabel('Distance from center of mass along Y [AU]', fontsize=40)\n",
    "axes[1].set_xlabel('Distance from center of mass along X [AU]', fontsize=40)\n",
    "axes[1].set_ylabel('Distance from center of mass along Y [AU]', fontsize=40)\n",
    "\n",
    "axes[0].tick_params(axis='both', which='major', labelsize=30)\n",
    "axes[1].tick_params(axis='both', which='major', labelsize=30)\n",
    "\n",
    "legend_elements = [Line2D([0], [0], color='red', lw=1, label='Orbit of {0}'.format(choosen_planet_1)),\n",
    "                   Line2D([0], [0], color='green', lw=5, label='Orbit of {0}'.format(choosen_planet_2)),\n",
    "                   Line2D([0], [0], marker='o', color='white', markerfacecolor=Planet_Colors[choosen_planet_1],\n",
    "                          markersize=10, label=choosen_planet_1),\n",
    "                   Line2D([0], [0], marker='o', color='white', markerfacecolor=Planet_Colors[choosen_planet_2],\n",
    "                          markersize=10, label=choosen_planet_2)]\n",
    "\n",
    "axes[0].legend(handles=legend_elements, fontsize=30)\n",
    "axes[1].legend(handles=legend_elements, fontsize=30)\n",
    "fig.tight_layout()\n",
    "plt.savefig(image_path +\n",
    "            choosen_planet_2 + '_around_' + choosen_planet_1 + '_fixed.' +\n",
    "            image_format,\n",
    "            format=image_format,\n",
    "            dpi=image_dpi,\n",
    "            bbox_inches='tight')\n",
    "plt.show()"
   ]
  },
  {
   "cell_type": "code",
   "execution_count": null,
   "metadata": {},
   "outputs": [],
   "source": [
    "'''ffmpeg -i input1.mp4 -c copy -bsf:v h264_mp4toannexb -f mpegts intermediate1.ts\n",
    "ffmpeg -i input2.mp4 -c copy -bsf:v h264_mp4toannexb -f mpegts intermediate2.ts\n",
    "ffmpeg -i \"concat:intermediate1.ts|intermediate2.ts\" -c copy -bsf:a aac_adtstoasc output.mp4''';"
   ]
  },
  {
   "cell_type": "code",
   "execution_count": null,
   "metadata": {},
   "outputs": [],
   "source": []
  }
 ],
 "metadata": {
  "kernelspec": {
   "display_name": "Python 3",
   "language": "python",
   "name": "python3"
  },
  "language_info": {
   "codemirror_mode": {
    "name": "ipython",
    "version": 3
   },
   "file_extension": ".py",
   "mimetype": "text/x-python",
   "name": "python",
   "nbconvert_exporter": "python",
   "pygments_lexer": "ipython3",
   "version": "3.9.2"
  }
 },
 "nbformat": 4,
 "nbformat_minor": 4
}
