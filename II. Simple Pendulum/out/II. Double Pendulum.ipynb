{
 "cells": [
  {
   "cell_type": "markdown",
   "metadata": {},
   "source": [
    "# Computer simulations course 2018/2019-2 @ ELTE\n",
    "# Assignment 2: Simple Pendulum - Expansion DLC: Double Pendulum\n",
    "## 02.19.2019"
   ]
  },
  {
   "cell_type": "code",
   "execution_count": 2,
   "metadata": {},
   "outputs": [],
   "source": [
    "import numpy as np\n",
    "import matplotlib.pyplot as plt\n",
    "import seaborn as sns\n",
    "import os\n",
    "import sys\n",
    "from scipy import stats"
   ]
  },
  {
   "cell_type": "code",
   "execution_count": 3,
   "metadata": {},
   "outputs": [],
   "source": [
    "sns.set_style(style='whitegrid')"
   ]
  },
  {
   "cell_type": "code",
   "execution_count": 7,
   "metadata": {},
   "outputs": [],
   "source": [
    "#url: https://ir.canterbury.ac.nz/bitstream/handle/10092/12659/chen_2008_report.pdf"
   ]
  },
  {
   "cell_type": "code",
   "execution_count": 8,
   "metadata": {},
   "outputs": [],
   "source": [
    "# -------- PRIMARY PARAMETERS --------\n",
    "# Masses of pendulums m_1, m_2\n",
    "m_1 = 1.5\n",
    "m_2 = 1\n",
    "# Length of pendulums L_1, L_2\n",
    "L_1 = 1.5\n",
    "L_2 = 1\n",
    "# Damping coefficients q_1, q_2\n",
    "q_1 = 0\n",
    "q_2 = 0\n",
    "# Driving frequencies Omega_D_1, Omega_D_2\n",
    "Omega_D_1 = 0\n",
    "Omega_D_2 = 0\n",
    "# Driving amplitudes F_D_1, F_D_2\n",
    "F_D_1 = 0\n",
    "F_D_2 = 0\n",
    "# Theta(0)\n",
    "theta_1 = 30\n",
    "theta_2 = 40\n",
    "theta_1 *= np.pi/180\n",
    "theta_2 *= np.pi/180\n",
    "# Omega(ω)\n",
    "omega_1 = 0\n",
    "omega_2 = 0\n",
    "# Integration time t_iteration\n",
    "t_iteration = 40\n",
    "# Stepsize\n",
    "dt = 0.1\n",
    "\n",
    "\n",
    "# -------- OTHERS --------\n",
    "# Accuracy\n",
    "accuracy = 1e-6"
   ]
  },
  {
   "cell_type": "code",
   "execution_count": null,
   "metadata": {},
   "outputs": [],
   "source": [
    "def mode_choose(linearity, mode):\n",
    "    \n",
    "    current_mode = ('..\\Release\\pendulum_double.exe ' +\n",
    "                      mode + ' ' +\n",
    "                      str(m) + ' ' +\n",
    "                      str(L) + ' ' +\n",
    "                      str(q) + ' ' +\n",
    "                      str(Omega_D) + ' ' +\n",
    "                      str(F_D) + ' ' +\n",
    "                      str(theta) + ' ' +\n",
    "                      str(omega) + ' ' +\n",
    "                      str(t_iteration) + ' ' +\n",
    "                      str(dt) + ' ' +\n",
    "                      str(accuracy)\n",
    "                     )\n",
    "    \n",
    "    return(current_mode)"
   ]
  }
 ],
 "metadata": {
  "kernelspec": {
   "display_name": "Python 3",
   "language": "python",
   "name": "python3"
  },
  "language_info": {
   "codemirror_mode": {
    "name": "ipython",
    "version": 3
   },
   "file_extension": ".py",
   "mimetype": "text/x-python",
   "name": "python",
   "nbconvert_exporter": "python",
   "pygments_lexer": "ipython3",
   "version": "3.6.0"
  }
 },
 "nbformat": 4,
 "nbformat_minor": 2
}
