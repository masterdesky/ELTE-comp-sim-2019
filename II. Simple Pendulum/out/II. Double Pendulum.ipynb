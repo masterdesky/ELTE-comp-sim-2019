{
 "cells": [
  {
   "cell_type": "markdown",
   "metadata": {},
   "source": [
    "# Computer simulations course 2018/2019-2 @ ELTE\n",
    "# Assignment 2: Simple Pendulum - Expansion DLC: Double Pendulum\n",
    "## 02.19.2019"
   ]
  },
  {
   "cell_type": "code",
   "execution_count": 2,
   "metadata": {},
   "outputs": [],
   "source": [
    "import numpy as np\n",
    "import matplotlib.pyplot as plt\n",
    "import seaborn as sns\n",
    "import os\n",
    "import sys\n",
    "from scipy import stats"
   ]
  },
  {
   "cell_type": "code",
   "execution_count": 3,
   "metadata": {},
   "outputs": [],
   "source": [
    "sns.set_style(style='whitegrid')"
   ]
  },
  {
   "cell_type": "code",
   "execution_count": 4,
   "metadata": {},
   "outputs": [],
   "source": [
    "# -------- PRIMARY PARAMETERS --------\n",
    "# Length of pendulum L\n",
    "L = 1.5\n",
    "# Damping coefficient q\n",
    "q_1 = 0\n",
    "q_2 = 0\n",
    "# Driving frequencey Omega_D\n",
    "Omega_D_1 = 0\n",
    "Omega_D_2 = 0\n",
    "# Driving amplitude F_D\n",
    "F_D_1 = 0\n",
    "F_D_2 = 0\n",
    "# Theta(0)\n",
    "theta_1 = 30\n",
    "theta_2 = 40\n",
    "\n",
    "theta_1 *= np.pi/180\n",
    "theta_2 *= np.pi/180\n",
    "# Omega(ω)\n",
    "omega_1 = 0\n",
    "omega_2 = 0\n",
    "# Integration time t_max\n",
    "t_iteration = 40\n",
    "# Stepsize\n",
    "dt = 0.1\n",
    "\n",
    "\n",
    "# -------- OTHERS --------\n",
    "# Accuracy\n",
    "accuracy = 1e-6"
   ]
  },
  {
   "cell_type": "code",
   "execution_count": null,
   "metadata": {},
   "outputs": [],
   "source": []
  }
 ],
 "metadata": {
  "kernelspec": {
   "display_name": "Python 3",
   "language": "python",
   "name": "python3"
  },
  "language_info": {
   "codemirror_mode": {
    "name": "ipython",
    "version": 3
   },
   "file_extension": ".py",
   "mimetype": "text/x-python",
   "name": "python",
   "nbconvert_exporter": "python",
   "pygments_lexer": "ipython3",
   "version": "3.6.0"
  }
 },
 "nbformat": 4,
 "nbformat_minor": 2
}
