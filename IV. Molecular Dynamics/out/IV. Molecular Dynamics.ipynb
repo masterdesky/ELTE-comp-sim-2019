{
 "cells": [
  {
   "cell_type": "markdown",
   "metadata": {},
   "source": [
    "# Computer simulations course 2018/2019-2 @ ELTE\n",
    "# Assignment 4: Molecular Dynamics - 1D motion\n",
    "## 03.19.2019"
   ]
  },
  {
   "cell_type": "code",
   "execution_count": 1,
   "metadata": {},
   "outputs": [],
   "source": [
    "import numpy as np\n",
    "import matplotlib.pyplot as plt\n",
    "import seaborn as sns\n",
    "import random\n",
    "import os\n",
    "import sys\n",
    "from scipy import stats\n",
    "from datetime import datetime\n",
    "import time\n",
    "import imageio\n",
    "import os, shutil\n",
    "from matplotlib.patches import Circle\n",
    "from matplotlib.patches import Patch\n",
    "from matplotlib.lines import Line2D"
   ]
  },
  {
   "cell_type": "code",
   "execution_count": 2,
   "metadata": {},
   "outputs": [],
   "source": [
    "sns.set_style(style='whitegrid')"
   ]
  },
  {
   "cell_type": "code",
   "execution_count": 3,
   "metadata": {},
   "outputs": [],
   "source": [
    "def mode_choose(mode, odeint, relat):\n",
    "    \n",
    "    current_mode = ('..\\Release\\md.exe ' +\n",
    "                    mode + ' ' +\n",
    "                    odeint + ' ' +\n",
    "                    relat + ' ' +\n",
    "                    str(m_1) + ' ' +\n",
    "                    str(m_2) + ' ' +\n",
    "                    str(r_dist) + ' ' +\n",
    "                    str(ecc_1) + ' ' +\n",
    "                    str(ecc_2) + ' ' +\n",
    "                    str(plotting_years) + ' ' +\n",
    "                    str(dt) + ' ' +\n",
    "                    str(accuracy) + ' ' +\n",
    "                    str(half_number_of_bodies * 2)\n",
    "                   )\n",
    "\n",
    "    return(current_mode)"
   ]
  },
  {
   "cell_type": "code",
   "execution_count": null,
   "metadata": {},
   "outputs": [],
   "source": []
  },
  {
   "cell_type": "code",
   "execution_count": null,
   "metadata": {},
   "outputs": [],
   "source": []
  },
  {
   "cell_type": "code",
   "execution_count": null,
   "metadata": {},
   "outputs": [],
   "source": []
  }
 ],
 "metadata": {
  "kernelspec": {
   "display_name": "Python 3",
   "language": "python",
   "name": "python3"
  },
  "language_info": {
   "codemirror_mode": {
    "name": "ipython",
    "version": 3
   },
   "file_extension": ".py",
   "mimetype": "text/x-python",
   "name": "python",
   "nbconvert_exporter": "python",
   "pygments_lexer": "ipython3",
   "version": "3.7.0"
  }
 },
 "nbformat": 4,
 "nbformat_minor": 2
}
