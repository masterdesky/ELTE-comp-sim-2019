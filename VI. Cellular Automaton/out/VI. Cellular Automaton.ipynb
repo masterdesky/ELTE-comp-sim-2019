{
 "cells": [
  {
   "cell_type": "markdown",
   "metadata": {},
   "source": [
    "# Computer simulations course 2018/2019-2 @ ELTE\n",
    "# Assignment 6: Cellular Automaton\n",
    "## 04.28.2019"
   ]
  },
  {
   "cell_type": "code",
   "execution_count": null,
   "metadata": {},
   "outputs": [],
   "source": [
    "import numpy as np\n",
    "import matplotlib.pyplot as plt\n",
    "import seaborn as sns\n",
    "import os \n",
    "import sys\n",
    "from scipy import stats\n",
    "import time\n",
    "import random\n",
    "from matplotlib.patches import Circle\n",
    "from matplotlib.patches import Patch\n",
    "from matplotlib.lines import Line2D\n",
    "import matplotlib.animation as animation\n",
    "from mpl_toolkits.axes_grid1 import make_axes_locatable"
   ]
  },
  {
   "cell_type": "code",
   "execution_count": null,
   "metadata": {},
   "outputs": [],
   "source": [
    "sns.set_style(style='white')\n",
    "seaborn_cmap = sns.cubehelix_palette(as_cmap=True, dark=0, light=1, reverse=True)"
   ]
  },
  {
   "cell_type": "code",
   "execution_count": null,
   "metadata": {},
   "outputs": [],
   "source": [
    "def mode_choose(boundary_condition, game_mode):\n",
    "    \n",
    "    current_mode = ('..\\\\Release\\\\cell.exe' + ' ' +\n",
    "                    boundary_condition + ' ' +\n",
    "                    game_mode + ' ' +\n",
    "                    str(gen_neighbours) + ' ' +\n",
    "                    str(width_arena) + ' ' +\n",
    "                    str(height_arena) + ' ' +\n",
    "                    str(position_x) + ' ' +\n",
    "                    str(position_y) + ' ' +\n",
    "                    str(sim_steps) + ' '\n",
    "                   )\n",
    "\n",
    "    if(game_mode == 'random'):\n",
    "        current_mode += (str(width_life) + ' ' +\n",
    "                         str(height_life)\n",
    "                        )\n",
    "        \n",
    "    elif(game_mode == 'user'):\n",
    "        current_mode += file_name\n",
    "\n",
    "    else:\n",
    "        print('fu')\n",
    "\n",
    "    return(current_mode)"
   ]
  },
  {
   "cell_type": "code",
   "execution_count": null,
   "metadata": {},
   "outputs": [],
   "source": [
    "image_dpi = 150\n",
    "image_format = 'pdf'\n",
    "image_path = '..\\\\Documentation\\\\src\\\\images\\\\'"
   ]
  },
  {
   "cell_type": "markdown",
   "metadata": {},
   "source": [
    "## Animation"
   ]
  },
  {
   "cell_type": "code",
   "execution_count": null,
   "metadata": {},
   "outputs": [],
   "source": [
    "def AnimateLife(video_name, fps):\n",
    "    \n",
    "    GameArena = plt.figure(figsize=(width_arena/sliced, height_arena/sliced))\n",
    "    \n",
    "    # INPUT DATA SHOULD BE AN ARRAY, SO WE CONVERT INTO IT FROM A LIST\n",
    "    StartingPoints = np.asarray(data_cell[0:height_arena,])\n",
    "\n",
    "    # CREATE A FULL NULL-MATRIX IN THE SIZE OF THE FULL ARRAY\n",
    "    Background = np.zeros_like(StartingPoints)\n",
    "\n",
    "    # SET ARENA AXES (FROM MATPLOTLIB.ORG)\n",
    "    ax = GameArena.add_axes([0, 0, 1, 1], xticks=[], yticks=[], frameon=False)\n",
    "\n",
    "    # FROM STACKOVERFLOW, PLOTTING BINARY MATRIX WITH WHITE AND BLACK SQUARES\n",
    "    # ON STACKOVERFLOW IT WAS AN EXAMPLE FOR ANIMATING A FRACTAL\n",
    "    Image = ax.imshow(StartingPoints, cmap='Greys', interpolation='nearest')\n",
    "\n",
    "    # WE SHOULD INITIALIZE THE PLOTTING ANIMATION WITH A BACKGROUND FIRST IN MATPLOTLIB'S FuncAnimation\n",
    "    # THIS IS NECESSARY, BECAUSE THE ANIMATION WOULD ONLY SHOW ONLY ONE FRAME, AND WE DON'T WANT IT\n",
    "    # THIS IS FROM THE EXAMPLE CODES FROM MATPLOTLIB'S OFFICIAL PAGE\n",
    "    def InitFunc():\n",
    "        Image.set_data(Background)\n",
    "        return Image,\n",
    "\n",
    "    # STEPPING THE LIFE AND UPDATING THE IMAGE\n",
    "    def GenerationUpdate(x):\n",
    "        Image.set_data(GenerationUpdate.StartingPoints)\n",
    "        GenerationUpdate.StartingPoints = np.asarray(data_cell[height_arena*x:height_arena*(x + 1),])\n",
    "        return Image,\n",
    "\n",
    "    # SET UP FORMATTING FOR MOVIE FILES FROM MATPLOTLIB'T HOME PAGE\n",
    "    # FFMPEG NEEDED!!!\n",
    "    Writer = animation.writers['ffmpeg']\n",
    "    writer = Writer(fps=fps, metadata=dict(artist='PB'), bitrate=1800)\n",
    "\n",
    "    # ANIMATE THE OBJECT\n",
    "    GenerationUpdate.StartingPoints = StartingPoints\n",
    "    anim = animation.FuncAnimation(GameArena, GenerationUpdate, sim_steps, interval=50, init_func=InitFunc, blit=True)\n",
    "    anim.save('.\\\\videos\\\\' + video_name + '.mp4', writer=writer)\n",
    "    plt.show()"
   ]
  },
  {
   "cell_type": "markdown",
   "metadata": {},
   "source": [
    "## Draw image"
   ]
  },
  {
   "cell_type": "code",
   "execution_count": null,
   "metadata": {},
   "outputs": [],
   "source": [
    "input_image = plt.imread('cica.bmp')/255"
   ]
  },
  {
   "cell_type": "code",
   "execution_count": null,
   "metadata": {},
   "outputs": [],
   "source": [
    "h = input_image.shape[0]\n",
    "w = input_image.shape[1]\n",
    "new_array = np.zeros((h, w))\n",
    "for i in range(input_image.shape[0]):\n",
    "    for j in range(input_image.shape[1]):\n",
    "        new_array[i][j] = 1 - input_image[i,j,][0]"
   ]
  },
  {
   "cell_type": "code",
   "execution_count": null,
   "metadata": {},
   "outputs": [],
   "source": [
    "print(h, ',', w)"
   ]
  },
  {
   "cell_type": "code",
   "execution_count": null,
   "metadata": {},
   "outputs": [],
   "source": [
    "plt.figure(figsize=(8,8))\n",
    "plt.imshow(new_array, cmap='Greys')\n",
    "plt.show()"
   ]
  },
  {
   "cell_type": "code",
   "execution_count": null,
   "metadata": {},
   "outputs": [],
   "source": [
    "np.savetxt('..\\\\Release\\\\cica.txt', X=new_array, fmt='%1.0f', delimiter=',')"
   ]
  },
  {
   "cell_type": "markdown",
   "metadata": {},
   "source": [
    "## Initial conditions"
   ]
  },
  {
   "cell_type": "code",
   "execution_count": null,
   "metadata": {},
   "outputs": [],
   "source": [
    "# Exact number of neighbours to generate new cell (N)\n",
    "gen_neighbours = 2\n",
    "# Width of the game arena [pixels]\n",
    "# galaxy: 35x35, placed 5-5, run 63\n",
    "# copperhead: 20x40, placed 5-20, run 400\n",
    "# glider gun: 50x30, placed 5-5, run 400\n",
    "width_arena = 50\n",
    "# Height of the game arena [pixels]\n",
    "height_arena = 30\n",
    "# Position of random life at start along X axis\n",
    "position_x = 5\n",
    "# Position of random life at start along Y axis\n",
    "position_y = 5\n",
    "# Total number of simulated steps\n",
    "sim_steps = 400\n",
    "# Width of the random life [pixels]\n",
    "width_life = 3\n",
    "# Height of the random life [pixels]\n",
    "height_life = 3\n",
    "# Input file's name\n",
    "file_name = '\\\"E:\\\\Documents\\\\GitHub\\\\ELTE_Comp_Simulations_2019\\\\VI. Cellular Automaton\\\\Release\\\\glidergun.dat\\\"'\n",
    "#file_name = '\\\"C:\\\\Users\\\\masterdesky\\\\Documents\\\\GitHub\\\\ELTE_Comp_Simulations_2019\\\\VI. Cellular Automaton\\\\Release\\\\cica.txt\\\"'\n",
    "sliced = 4"
   ]
  },
  {
   "cell_type": "code",
   "execution_count": null,
   "metadata": {
    "scrolled": true
   },
   "outputs": [],
   "source": [
    "current_mode = mode_choose(boundary_condition = 'periodic', game_mode = 'user')\n",
    "os.system(current_mode)\n",
    "print('sent command: {0}'.format(current_mode))\n",
    "data_cell = np.genfromtxt('cell.dat')"
   ]
  },
  {
   "cell_type": "code",
   "execution_count": null,
   "metadata": {},
   "outputs": [],
   "source": [
    "# galaxy\n",
    "nrows = 4\n",
    "ncols = 2\n",
    "size = 5\n",
    "fig, axes = plt.subplots(nrows=nrows, ncols=ncols, figsize=(ncols*size, nrows*size))\n",
    "\n",
    "axisticksize = 15\n",
    "\n",
    "start = 2\n",
    "for i in range(0, 8):\n",
    "    axes[i//ncols][i%ncols].imshow(data_cell[height_arena*(i+start):height_arena*(i+start+1)], cmap='Greys_r')\n",
    "    \n",
    "    axes[i//ncols][i%ncols].tick_params(axis='both', which='major', labelsize=axisticksize)\n",
    "    \n",
    "fig.tight_layout()\n",
    "plt.savefig(image_path +\n",
    "            'galaxy.' +\n",
    "            image_format,\n",
    "            format=image_format,\n",
    "            dpi=image_dpi,\n",
    "            bbox_inches='tight')\n",
    "plt.show()"
   ]
  },
  {
   "cell_type": "code",
   "execution_count": null,
   "metadata": {},
   "outputs": [],
   "source": [
    "# copperhead\n",
    "nrows = 4\n",
    "ncols = 5\n",
    "fig, axes = plt.subplots(nrows=nrows, ncols=ncols, figsize=(ncols*2.6, nrows*5))\n",
    "\n",
    "axisticksize = 15\n",
    "\n",
    "steps = 6\n",
    "start = 0\n",
    "for i in range(0, nrows*ncols):\n",
    "    axes[i//ncols][i%ncols].imshow(data_cell[height_arena*(steps*i+start):height_arena*(steps*i+start+1)], cmap='Greys_r')\n",
    "    \n",
    "    axes[i//ncols][i%ncols].tick_params(axis='both', which='major', labelsize=axisticksize)\n",
    "    \n",
    "fig.tight_layout()\n",
    "plt.savefig(image_path +\n",
    "            'copperhead.' +\n",
    "            image_format,\n",
    "            format=image_format,\n",
    "            dpi=image_dpi,\n",
    "            bbox_inches='tight')\n",
    "plt.show()"
   ]
  },
  {
   "cell_type": "code",
   "execution_count": null,
   "metadata": {},
   "outputs": [],
   "source": [
    "# glidergun\n",
    "nrows = 7\n",
    "ncols = 3\n",
    "fig, axes = plt.subplots(nrows=nrows, ncols=ncols, figsize=(ncols*5, nrows*3))\n",
    "\n",
    "axisticksize = 15\n",
    "\n",
    "steps = 3\n",
    "start = 0\n",
    "for i in range(0, nrows*ncols):\n",
    "    axes[i//ncols][i%ncols].imshow(data_cell[height_arena*(steps*i+start):height_arena*(steps*i+start+1)], cmap='Greys_r')\n",
    "    \n",
    "    axes[i//ncols][i%ncols].tick_params(axis='both', which='major', labelsize=axisticksize)\n",
    "    \n",
    "fig.tight_layout()\n",
    "plt.savefig(image_path +\n",
    "            'glidergun.' +\n",
    "            image_format,\n",
    "            format=image_format,\n",
    "            dpi=image_dpi,\n",
    "            bbox_inches='tight')\n",
    "plt.show()"
   ]
  },
  {
   "cell_type": "code",
   "execution_count": null,
   "metadata": {
    "scrolled": true
   },
   "outputs": [],
   "source": [
    "'''nrows = sim_steps//sliced + 1\n",
    "ncols = sliced\n",
    "fig, axes = plt.subplots(nrows=nrows, ncols=ncols, figsize=(ncols*width_arena/sliced, nrows*height_arena/sliced))\n",
    "\n",
    "titlesize = 30\n",
    "axisticksize = 20\n",
    "\n",
    "for i in range(0, nrows):\n",
    "    for j in range(0, ncols):\n",
    "        \n",
    "        if(i*ncols + j + 1 <= sim_steps):\n",
    "            axes[i][j].imshow(data_cell[height_arena*(i*ncols + j):height_arena*(i*ncols + j + 1),])\n",
    "\n",
    "            axes[i][j].set_title('Frame #{0}'.format(i*ncols + j), fontsize=titlesize)\n",
    "            \n",
    "            axes[i][j].tick_params(axis='both', which='major', labelsize=axisticksize)\n",
    "\n",
    "        else:\n",
    "            axes[i][j].remove()\n",
    "\n",
    "fig.tight_layout()\n",
    "plt.show()''';"
   ]
  },
  {
   "cell_type": "code",
   "execution_count": null,
   "metadata": {},
   "outputs": [],
   "source": [
    "AnimateLife(video_name='galaxy_periodic', fps=10)"
   ]
  },
  {
   "cell_type": "markdown",
   "metadata": {},
   "source": [
    "# Sand pile automaton"
   ]
  },
  {
   "cell_type": "markdown",
   "metadata": {},
   "source": [
    "## Sandpile python code"
   ]
  },
  {
   "cell_type": "code",
   "execution_count": null,
   "metadata": {},
   "outputs": [],
   "source": [
    "def init_sandpile(width, height):\n",
    "    \n",
    "    sandpile = np.zeros((height+2, width+2))\n",
    "    \n",
    "    for i in range(1, height+1):\n",
    "        for j in range(1, width+1):\n",
    "            sandpile[i][j] = scale_factor\n",
    "    \n",
    "    return(sandpile)"
   ]
  },
  {
   "cell_type": "code",
   "execution_count": null,
   "metadata": {},
   "outputs": [],
   "source": [
    "def step_sandpile(sandpile, width, height):\n",
    "    \n",
    "    new_sandpile = sandpile\n",
    "    \n",
    "    for i in range(1, height+1):\n",
    "        for j in range(1, width+1):\n",
    "            if(sandpile[i][j] > 3):\n",
    "                new_sandpile[i][j] -= 4\n",
    "\n",
    "                # Add them to neighbours\n",
    "                new_sandpile[i+1][j] += 1\n",
    "                new_sandpile[i-1][j] += 1\n",
    "                new_sandpile[i][j+1] += 1\n",
    "                new_sandpile[i][j-1] += 1\n",
    "\n",
    "    sandpile = new_sandpile\n",
    "    \n",
    "    return(sandpile)"
   ]
  },
  {
   "cell_type": "markdown",
   "metadata": {},
   "source": [
    "## Animation"
   ]
  },
  {
   "cell_type": "code",
   "execution_count": null,
   "metadata": {},
   "outputs": [],
   "source": [
    "def AnimateSandpile(video_name, anim_steps):\n",
    "    \n",
    "    sliced = 4\n",
    "    width = 50\n",
    "    height = 50\n",
    "    GameArena = plt.figure(figsize=(width/sliced, height/sliced))\n",
    "    \n",
    "    # INPUT DATA SHOULD BE AN ARRAY, SO WE CONVERT INTO IT FROM A LIST\n",
    "    StartingPoints = np.asarray(init_sandpile(width, height))\n",
    "\n",
    "    # CREATE A FULL NULL-MATRIX IN THE SIZE OF THE FULL ARRAY\n",
    "    Background = np.zeros_like(StartingPoints)\n",
    "\n",
    "    # SET ARENA AXES (FROM MATPLOTLIB.ORG)\n",
    "    ax = GameArena.add_axes([0, 0, 1, 1], xticks=[], yticks=[], frameon=False)\n",
    "\n",
    "    # FROM STACKOVERFLOW, PLOTTING BINARY MATRIX WITH WHITE AND BLACK SQUARES\n",
    "    # ON STACKOVERFLOW IT WAS AN EXAMPLE FOR ANIMATING A FRACTAL\n",
    "    Image = ax.imshow(StartingPoints, cmap='hot', interpolation='nearest')\n",
    "\n",
    "    # WE SHOULD INITIALIZE THE PLOTTING ANIMATION WITH A BACKGROUND FIRST IN MATPLOTLIB'S FuncAnimation\n",
    "    # THIS IS NECESSARY, BECAUSE THE ANIMATION WOULD ONLY SHOW ONLY ONE FRAME, AND WE DON'T WANT IT\n",
    "    # THIS IS FROM THE EXAMPLE CODES FROM MATPLOTLIB'S OFFICIAL PAGE\n",
    "    def InitFunc():\n",
    "        Image.set_data(Background)\n",
    "        return Image,\n",
    "\n",
    "    # STEPPING THE LIFE AND UPDATING THE IMAGE\n",
    "    def GenerationUpdate(x):\n",
    "        Image.set_data(GenerationUpdate.StartingPoints[1:width+1,1:height+1])\n",
    "        GenerationUpdate.StartingPoints = np.asarray(step_sandpile(GenerationUpdate.StartingPoints, width, height))\n",
    "        return Image,\n",
    "\n",
    "    # SET UP FORMATTING FOR MOVIE FILES FROM MATPLOTLIB'T HOME PAGE\n",
    "    # FFMPEG NEEDED!!!\n",
    "    Writer = animation.writers['ffmpeg']\n",
    "    writer = Writer(fps=15, metadata=dict(artist='PB'), bitrate=1800)\n",
    "\n",
    "    # ANIMATE THE OBJECT\n",
    "    GenerationUpdate.StartingPoints = StartingPoints\n",
    "    anim = animation.FuncAnimation(GameArena, GenerationUpdate, anim_steps, interval=50, init_func=InitFunc, blit=True)\n",
    "    anim.save('.\\\\videos\\\\' + video_name + '.mp4', writer=writer)\n",
    "    plt.show()"
   ]
  },
  {
   "cell_type": "code",
   "execution_count": null,
   "metadata": {},
   "outputs": [],
   "source": [
    "AnimateSandpile(video_name='sandpile_anim_py', anim_steps=400)"
   ]
  },
  {
   "cell_type": "markdown",
   "metadata": {},
   "source": [
    "## C++ mode choosing"
   ]
  },
  {
   "cell_type": "code",
   "execution_count": null,
   "metadata": {},
   "outputs": [],
   "source": [
    "def mode_choose_sp(init_mode, save_mode):\n",
    "    \n",
    "    current_mode = ('..\\\\Release\\\\sandpile.exe' + ' ' +\n",
    "                    init_mode + ' ' +\n",
    "                    save_mode + ' ' +\n",
    "                    str(width) + ' ' +\n",
    "                    str(height) + ' ' +\n",
    "                    str(sim_steps_sp) + ' ' +\n",
    "                    str(scale_factor)\n",
    "                   )\n",
    "\n",
    "    return(current_mode)"
   ]
  },
  {
   "cell_type": "markdown",
   "metadata": {},
   "source": [
    "## Initial conditions"
   ]
  },
  {
   "cell_type": "code",
   "execution_count": null,
   "metadata": {},
   "outputs": [],
   "source": [
    "# Whether or not save the entire run, but only the last state\n",
    "save_mode = 'full'\n",
    "# Width of the arena for the sandpile [pixels]\n",
    "width = 60\n",
    "# Height of the arena for the sandpile [pixels]\n",
    "height = 100\n",
    "# Maximum possible value for a slope\n",
    "scale_factor = 7\n",
    "# Critical degree of slope before avalanche occurs\n",
    "critical_slope = 3\n",
    "# Total number of simulated steps\n",
    "sim_steps_sp = 60000"
   ]
  },
  {
   "cell_type": "code",
   "execution_count": null,
   "metadata": {},
   "outputs": [],
   "source": [
    "current_mode_sp = mode_choose_sp(init_mode='unstable', save_mode=save_mode)\n",
    "max_steps = os.system(current_mode_sp)\n",
    "print('sent command: {0}'.format(current_mode_sp))\n",
    "print('stable at step {0}'.format(max_steps))"
   ]
  },
  {
   "cell_type": "code",
   "execution_count": null,
   "metadata": {},
   "outputs": [],
   "source": [
    "data_cell_sp = np.genfromtxt('sandpile.dat')"
   ]
  },
  {
   "cell_type": "code",
   "execution_count": null,
   "metadata": {},
   "outputs": [],
   "source": [
    "'''sliced = 4\n",
    "runs = 12\n",
    "nrows = int(np.ceil(runs/sliced))\n",
    "ncols = sliced\n",
    "fig, axes = plt.subplots(nrows=nrows, ncols=ncols, figsize=(ncols*width/sliced, nrows*height/sliced))\n",
    "\n",
    "for i in range(0, runs):\n",
    "    scale_factor = 5 + runs\n",
    "    current_mode_sp = mode_choose_sp(init_mode='unstable')\n",
    "    os.system(current_mode_sp)\n",
    "    data_cell_sp = np.genfromtxt('sandpile.dat')\n",
    "\n",
    "    axes[i//ncols][i%ncols].imshow(data_cell_sp[sim_steps_sp*height:(sim_steps_sp+1)*height], cmap='hot')\n",
    "    \n",
    "fig.tight_layout()\n",
    "plt.show()''';"
   ]
  },
  {
   "cell_type": "code",
   "execution_count": null,
   "metadata": {},
   "outputs": [],
   "source": [
    "fig, axes = plt.subplots(figsize=(14,14))\n",
    "\n",
    "titlesize = 25\n",
    "axisticksize = 20\n",
    "clbfontsize = 15\n",
    "\n",
    "if(save_mode == 'full'):\n",
    "    i = max_steps\n",
    "    img = axes.imshow(data_cell_sp[(i-1)*height:i*height], cmap='copper')\n",
    "else:\n",
    "    img = axes.imshow(data_cell_sp, cmap='copper')\n",
    "\n",
    "axes.set_title('Abelian 2D sandpile; width = {0}, height = {1}\\nStable state was reached after {2} step'.format(width, height,\n",
    "                                                                                                                max_steps),\n",
    "              fontsize=titlesize)\n",
    "\n",
    "axes.tick_params(axis='both', which='major', labelsize=axisticksize)\n",
    "\n",
    "# create an axes on the right side of ax. The width of cax will be 5%\n",
    "# of ax and the padding between cax and ax will be fixed at 0.5 inch.\n",
    "divider = make_axes_locatable(axes)\n",
    "cax = divider.append_axes(\"right\", size=\"5%\", pad=0.5)\n",
    "cbar = plt.colorbar(img, cax=cax)\n",
    "cbar.ax.tick_params(labelsize=clbfontsize)\n",
    "\n",
    "fig.tight_layout()\n",
    "plt.savefig(image_path +\n",
    "            'sandpile_w' + str(width) + '_h' + str(height) + '.' +\n",
    "            image_format,\n",
    "            format=image_format,\n",
    "            dpi=image_dpi,\n",
    "            bbox_inches='tight')\n",
    "plt.show()"
   ]
  },
  {
   "cell_type": "code",
   "execution_count": null,
   "metadata": {},
   "outputs": [],
   "source": [
    "'''nrows = sim_steps_sp//sliced + 1\n",
    "ncols = sliced\n",
    "fig, axes = plt.subplots(nrows=nrows, ncols=ncols, figsize=(ncols*width/sliced, nrows*height/sliced))\n",
    "\n",
    "titlesize = 30\n",
    "axisticksize = 20\n",
    "\n",
    "for i in range(0, nrows):\n",
    "    for j in range(0, ncols):\n",
    "        \n",
    "        if(i*ncols + j + 1 <= sim_steps_sp):\n",
    "            axes[i][j].imshow(data_cell_sp[height*(i*ncols + j + 1):height*(i*ncols + j + 2),])\n",
    "\n",
    "            axes[i][j].set_title('Frame #{0}'.format(i*ncols + j), fontsize=titlesize)\n",
    "            \n",
    "            axes[i][j].tick_params(axis='both', which='major', labelsize=axisticksize)\n",
    "\n",
    "        else:\n",
    "            axes[i][j].remove()\n",
    "\n",
    "fig.tight_layout()\n",
    "plt.show()''';"
   ]
  },
  {
   "cell_type": "code",
   "execution_count": null,
   "metadata": {},
   "outputs": [],
   "source": []
  }
 ],
 "metadata": {
  "kernelspec": {
   "display_name": "Python 3",
   "language": "python",
   "name": "python3"
  },
  "language_info": {
   "codemirror_mode": {
    "name": "ipython",
    "version": 3
   },
   "file_extension": ".py",
   "mimetype": "text/x-python",
   "name": "python",
   "nbconvert_exporter": "python",
   "pygments_lexer": "ipython3",
   "version": "3.9.2"
  }
 },
 "nbformat": 4,
 "nbformat_minor": 4
}
