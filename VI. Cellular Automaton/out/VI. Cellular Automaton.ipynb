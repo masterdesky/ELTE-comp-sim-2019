{
 "cells": [
  {
   "cell_type": "markdown",
   "metadata": {},
   "source": [
    "# Computer simulations course 2018/2019-2 @ ELTE\n",
    "# Assignment 6: Cellular Automaton\n",
    "## 04.28.2019"
   ]
  },
  {
   "cell_type": "code",
   "execution_count": 1,
   "metadata": {},
   "outputs": [],
   "source": [
    "import numpy as np\n",
    "import matplotlib.pyplot as plt\n",
    "import seaborn as sns\n",
    "import os \n",
    "import sys\n",
    "from scipy import stats\n",
    "import time\n",
    "import random\n",
    "from matplotlib.patches import Circle\n",
    "from matplotlib.patches import Patch\n",
    "from matplotlib.lines import Line2D\n",
    "import matplotlib.animation as animation"
   ]
  },
  {
   "cell_type": "code",
   "execution_count": 2,
   "metadata": {},
   "outputs": [],
   "source": [
    "sns.set_style(style='white')"
   ]
  },
  {
   "cell_type": "code",
   "execution_count": 3,
   "metadata": {},
   "outputs": [],
   "source": [
    "def mode_choose(boundary_condition, game_mode):\n",
    "    \n",
    "    current_mode = ('..\\\\Release\\\\cell.exe' + ' ' +\n",
    "                    boundary_condition + ' ' +\n",
    "                    game_mode + ' ' +\n",
    "                    str(gen_neighbours) + ' ' +\n",
    "                    str(width_arena) + ' ' +\n",
    "                    str(height_arena) + ' ' +\n",
    "                    str(position_x) + ' ' +\n",
    "                    str(position_y) + ' ' +\n",
    "                    str(sim_steps) + ' '\n",
    "                   )\n",
    "\n",
    "    if(game_mode == 'random'):\n",
    "        current_mode += (str(width_life) + ' ' +\n",
    "                         str(height_life)\n",
    "                        )\n",
    "        \n",
    "    elif(game_mode == 'user'):\n",
    "        current_mode += file_name\n",
    "\n",
    "    else:\n",
    "        print('fu')\n",
    "\n",
    "    return(current_mode)"
   ]
  },
  {
   "cell_type": "markdown",
   "metadata": {},
   "source": [
    "## Animation"
   ]
  },
  {
   "cell_type": "code",
   "execution_count": 4,
   "metadata": {},
   "outputs": [],
   "source": [
    "def AnimateLife(video_name):\n",
    "    \n",
    "    GameArena = plt.figure(figsize=(width_arena/sliced, height_arena/sliced))\n",
    "    \n",
    "    # INPUT DATA SHOULD BE AN ARRAY, SO WE CONVERT INTO IT FROM A LIST\n",
    "    StartingPoints = np.asarray(data_cell[0:height_arena,])\n",
    "\n",
    "    # CREATE A FULL NULL-MATRIX IN THE SIZE OF THE FULL ARRAY\n",
    "    Background = np.zeros_like(StartingPoints)\n",
    "\n",
    "    # SET ARENA AXES (FROM MATPLOTLIB.ORG)\n",
    "    ax = GameArena.add_axes([0, 0, 1, 1], xticks=[], yticks=[], frameon=False)\n",
    "\n",
    "    # FROM STACKOVERFLOW, PLOTTING BINARY MATRIX WITH WHITE AND BLACK SQUARES\n",
    "    # ON STACKOVERFLOW IT WAS AN EXAMPLE FOR ANIMATING A FRACTAL\n",
    "    Image = ax.imshow(StartingPoints, cmap='Greys', interpolation='nearest')\n",
    "\n",
    "    # WE SHOULD INITIALIZE THE PLOTTING ANIMATION WITH A BACKGROUND FIRST IN MATPLOTLIB'S FuncAnimation\n",
    "    # THIS IS NECESSARY, BECAUSE THE ANIMATION WOULD ONLY SHOW ONLY ONE FRAME, AND WE DON'T WANT IT\n",
    "    # THIS IS FROM THE EXAMPLE CODES FROM MATPLOTLIB'S OFFICIAL PAGE\n",
    "    def InitFunc():\n",
    "        Image.set_data(Background)\n",
    "        return Image,\n",
    "\n",
    "    # STEPPING THE LIFE AND UPDATING THE IMAGE\n",
    "    def GenerationUpdate(x):\n",
    "        Image.set_data(GenerationUpdate.StartingPoints)\n",
    "        GenerationUpdate.StartingPoints = np.asarray(data_cell[height_arena*x:height_arena*(x + 1),])\n",
    "        return Image,\n",
    "\n",
    "    # SET UP FORMATTING FOR MOVIE FILES FROM MATPLOTLIB'T HOME PAGE\n",
    "    # FFMPEG NEEDED!!!\n",
    "    Writer = animation.writers['ffmpeg']\n",
    "    writer = Writer(fps=15, metadata=dict(artist='PB'), bitrate=1800)\n",
    "\n",
    "    # ANIMATE THE OBJECT\n",
    "    GenerationUpdate.StartingPoints = StartingPoints\n",
    "    anim = animation.FuncAnimation(GameArena, GenerationUpdate, sim_steps, interval=50, init_func=InitFunc, blit=True)\n",
    "    anim.save('.\\\\videos\\\\' + video_name + '.mp4', writer=writer)\n",
    "    plt.show()"
   ]
  },
  {
   "cell_type": "markdown",
   "metadata": {},
   "source": [
    "## Draw image"
   ]
  },
  {
   "cell_type": "code",
   "execution_count": 5,
   "metadata": {},
   "outputs": [],
   "source": [
    "input_image = plt.imread('cica.bmp')/255"
   ]
  },
  {
   "cell_type": "code",
   "execution_count": 6,
   "metadata": {},
   "outputs": [],
   "source": [
    "h = input_image.shape[0]\n",
    "w = input_image.shape[1]\n",
    "new_array = np.zeros((h, w))\n",
    "for i in range(input_image.shape[0]):\n",
    "    for j in range(input_image.shape[1]):\n",
    "        new_array[i][j] = 1 - input_image[i,j,][0]"
   ]
  },
  {
   "cell_type": "code",
   "execution_count": 11,
   "metadata": {},
   "outputs": [
    {
     "name": "stdout",
     "output_type": "stream",
     "text": [
      "50 , 50\n"
     ]
    }
   ],
   "source": [
    "print(h, ',', w)"
   ]
  },
  {
   "cell_type": "code",
   "execution_count": 7,
   "metadata": {},
   "outputs": [
    {
     "data": {
      "image/png": "[encoded data removed]",
      "text/plain": [
       "<matplotlib.figure.Figure at 0x1a72c208>"
      ]
     },
     "metadata": {},
     "output_type": "display_data"
    }
   ],
   "source": [
    "plt.figure(figsize=(8,8))\n",
    "plt.imshow(new_array, cmap='Greys')\n",
    "plt.show()"
   ]
  },
  {
   "cell_type": "code",
   "execution_count": 23,
   "metadata": {},
   "outputs": [],
   "source": [
    "np.savetxt('..\\\\Release\\\\cica.txt', X=new_array, fmt='%1.0f', delimiter=',')"
   ]
  },
  {
   "cell_type": "markdown",
   "metadata": {},
   "source": [
    "## Initial conditions"
   ]
  },
  {
   "cell_type": "code",
   "execution_count": 24,
   "metadata": {},
   "outputs": [],
   "source": [
    "# Exact number of neighbours to generate new cell (N)\n",
    "gen_neighbours = 2\n",
    "# Width of the game arena [pixels]\n",
    "width_arena = 60\n",
    "# Height of the game arena [pixels]\n",
    "height_arena = 60\n",
    "# Position of random life at start along X axis\n",
    "position_x = 5\n",
    "# Position of random life at start along Y axis\n",
    "position_y = 5\n",
    "# Total number of simulated steps\n",
    "sim_steps = 63\n",
    "# Width of the random life [pixels]\n",
    "width_life = 3\n",
    "# Height of the random life [pixels]\n",
    "height_life = 3\n",
    "# Input file's name\n",
    "file_name = '\\\"E:\\\\Documents\\\\GitHub\\\\ELTE_Comp_Simulations_2019\\\\VI. Cellular Automaton\\\\Release\\\\cica.txt\\\"'\n",
    "#file_name = '\\\"C:\\\\Users\\\\masterdesky\\\\Documents\\\\GitHub\\\\ELTE_Comp_Simulations_2019\\\\VI. Cellular Automaton\\\\Release\\\\cica.txt\\\"'\n",
    "sliced = 4"
   ]
  },
  {
   "cell_type": "code",
   "execution_count": 25,
   "metadata": {
    "scrolled": true
   },
   "outputs": [
    {
     "name": "stdout",
     "output_type": "stream",
     "text": [
      "sent command: ..\\Release\\cell.exe periodic user 2 60 60 5 5 63 \"E:\\Documents\\GitHub\\ELTE_Comp_Simulations_2019\\VI. Cellular Automaton\\Release\\cica.txt\"\n"
     ]
    }
   ],
   "source": [
    "current_mode = mode_choose(boundary_condition = 'periodic', game_mode = 'user')\n",
    "os.system(current_mode)\n",
    "print('sent command: {0}'.format(current_mode))\n",
    "data_cell = np.genfromtxt('cell.dat')"
   ]
  },
  {
   "cell_type": "code",
   "execution_count": 27,
   "metadata": {},
   "outputs": [
    {
     "data": {
      "text/plain": [
       "<matplotlib.image.AxesImage at 0x1bd439e8>"
      ]
     },
     "execution_count": 27,
     "metadata": {},
     "output_type": "execute_result"
    },
    {
     "data": {
      "image/png": "[encoded data removed]",
      "text/plain": [
       "<matplotlib.figure.Figure at 0x1bc605c0>"
      ]
     },
     "metadata": {},
     "output_type": "display_data"
    }
   ],
   "source": [
    "plt.imshow(data_cell[0:height_arena])"
   ]
  },
  {
   "cell_type": "code",
   "execution_count": 15,
   "metadata": {},
   "outputs": [],
   "source": [
    "'''\n",
    "nrows = sim_steps//sliced + 1\n",
    "ncols = sliced\n",
    "fig, axes = plt.subplots(nrows=nrows, ncols=ncols, figsize=(ncols*width_arena/sliced, nrows*height_arena/sliced))\n",
    "\n",
    "titlesize = 30\n",
    "axisticksize = 20\n",
    "\n",
    "for i in range(0, nrows):\n",
    "    for j in range(0, ncols):\n",
    "        \n",
    "        if(i*ncols + j + 1 <= sim_steps):\n",
    "            axes[i][j].imshow(data_cell[height_arena*(i*ncols + j):height_arena*(i*ncols + j + 1),])\n",
    "\n",
    "            axes[i][j].set_title('Frame #{0}'.format(i*ncols + j), fontsize=titlesize)\n",
    "            \n",
    "            axes[i][j].tick_params(axis='both', which='major', labelsize=axisticksize)\n",
    "\n",
    "        else:\n",
    "            axes[i][j].remove()\n",
    "\n",
    "fig.tight_layout()\n",
    "plt.show()\n",
    "''';"
   ]
  },
  {
   "cell_type": "code",
   "execution_count": 16,
   "metadata": {},
   "outputs": [
    {
     "data": {
      "image/png": "[encoded data removed]",
      "text/plain": [
       "<matplotlib.figure.Figure at 0x1a7b6d68>"
      ]
     },
     "metadata": {},
     "output_type": "display_data"
    }
   ],
   "source": [
    "AnimateLife(video_name = 'cica_n2')"
   ]
  },
  {
   "cell_type": "markdown",
   "metadata": {},
   "source": [
    "# Sand pile automaton"
   ]
  },
  {
   "cell_type": "code",
   "execution_count": 28,
   "metadata": {},
   "outputs": [],
   "source": [
    "def mode_choose_sp(init_mode):\n",
    "    \n",
    "    current_mode = ('..\\\\Release\\\\sandpile.exe' + ' ' +\n",
    "                    init_mode + ' ' +\n",
    "                    str(width) + ' ' +\n",
    "                    str(height) + ' ' +\n",
    "                    str(scale_factor) + ' ' +\n",
    "                    str(critical_slope) + ' ' +\n",
    "                    str(sim_steps)\n",
    "                   )\n",
    "\n",
    "    return(current_mode)"
   ]
  },
  {
   "cell_type": "markdown",
   "metadata": {},
   "source": [
    "## Animation"
   ]
  },
  {
   "cell_type": "code",
   "execution_count": 109,
   "metadata": {},
   "outputs": [],
   "source": [
    "def AnimateSandpile(video_name):\n",
    "    \n",
    "    GameArena = plt.figure(figsize=(width/sliced, height/sliced))\n",
    "    \n",
    "    # INPUT DATA SHOULD BE AN ARRAY, SO WE CONVERT INTO IT FROM A LIST\n",
    "    StartingPoints = np.asarray(data_cell_sp[height:2*height])\n",
    "\n",
    "    # CREATE A FULL NULL-MATRIX IN THE SIZE OF THE FULL ARRAY\n",
    "    Background = np.zeros_like(StartingPoints)\n",
    "\n",
    "    # SET ARENA AXES (FROM MATPLOTLIB.ORG)\n",
    "    ax = GameArena.add_axes([0, 0, 1, 1], xticks=[], yticks=[], frameon=False)\n",
    "\n",
    "    # FROM STACKOVERFLOW, PLOTTING BINARY MATRIX WITH WHITE AND BLACK SQUARES\n",
    "    # ON STACKOVERFLOW IT WAS AN EXAMPLE FOR ANIMATING A FRACTAL\n",
    "    Image = ax.imshow(StartingPoints, cmap='hot', interpolation='nearest')\n",
    "\n",
    "    # WE SHOULD INITIALIZE THE PLOTTING ANIMATION WITH A BACKGROUND FIRST IN MATPLOTLIB'S FuncAnimation\n",
    "    # THIS IS NECESSARY, BECAUSE THE ANIMATION WOULD ONLY SHOW ONLY ONE FRAME, AND WE DON'T WANT IT\n",
    "    # THIS IS FROM THE EXAMPLE CODES FROM MATPLOTLIB'S OFFICIAL PAGE\n",
    "    def InitFunc():\n",
    "        Image.set_data(Background)\n",
    "        return Image,\n",
    "\n",
    "    # STEPPING THE LIFE AND UPDATING THE IMAGE\n",
    "    def GenerationUpdate(x):\n",
    "        Image.set_data(GenerationUpdate.StartingPoints)\n",
    "        GenerationUpdate.StartingPoints = np.asarray(data_cell_sp[height*(x + 1):height*(x + 2)])\n",
    "        return Image,\n",
    "\n",
    "    # SET UP FORMATTING FOR MOVIE FILES FROM MATPLOTLIB'T HOME PAGE\n",
    "    # FFMPEG NEEDED!!!\n",
    "    Writer = animation.writers['ffmpeg']\n",
    "    writer = Writer(fps=15, metadata=dict(artist='PB'), bitrate=1800)\n",
    "\n",
    "    # ANIMATE THE OBJECT\n",
    "    GenerationUpdate.StartingPoints = StartingPoints\n",
    "    anim = animation.FuncAnimation(GameArena, GenerationUpdate, sim_steps-1, interval=50, init_func=InitFunc, blit=True)\n",
    "    anim.save('.\\\\videos\\\\' + video_name + '.mp4', writer=writer)\n",
    "    plt.show()"
   ]
  },
  {
   "cell_type": "markdown",
   "metadata": {},
   "source": [
    "## Initial conditions"
   ]
  },
  {
   "cell_type": "code",
   "execution_count": 98,
   "metadata": {},
   "outputs": [],
   "source": [
    "# Width of the arena for the sandpile [pixels]\n",
    "width = 60\n",
    "# Height of the arena for the sandpile [pixels]\n",
    "height = 60\n",
    "# Maximum possible value for a slope\n",
    "scale_factor = 7\n",
    "# Critical degree of slope before avalanche occurs\n",
    "critical_slope = 3\n",
    "# Total number of simulated steps\n",
    "sim_steps = 200"
   ]
  },
  {
   "cell_type": "code",
   "execution_count": 99,
   "metadata": {},
   "outputs": [
    {
     "name": "stdout",
     "output_type": "stream",
     "text": [
      "sent command: ..\\Release\\sandpile.exe unstable 60 60 7 3 200\n"
     ]
    }
   ],
   "source": [
    "current_mode_sp = mode_choose_sp(init_mode='unstable')\n",
    "os.system(current_mode_sp)\n",
    "print('sent command: {0}'.format(current_mode_sp))\n",
    "data_cell_sp = np.genfromtxt('sandpile.dat')"
   ]
  },
  {
   "cell_type": "code",
   "execution_count": 108,
   "metadata": {
    "scrolled": true
   },
   "outputs": [
    {
     "data": {
      "text/plain": [
       "<matplotlib.image.AxesImage at 0x1fe88ac8>"
      ]
     },
     "execution_count": 108,
     "metadata": {},
     "output_type": "execute_result"
    },
    {
     "data": {
      "image/png": "[encoded data removed]",
      "text/plain": [
       "<matplotlib.figure.Figure at 0x21f60908>"
      ]
     },
     "metadata": {},
     "output_type": "display_data"
    }
   ],
   "source": [
    "i = 200\n",
    "plt.imshow(data_cell_sp[i*height:(i+1)*height], cmap='hot')"
   ]
  },
  {
   "cell_type": "code",
   "execution_count": 110,
   "metadata": {},
   "outputs": [
    {
     "data": {
      "image/png": "[encoded data removed]",
      "text/plain": [
       "<matplotlib.figure.Figure at 0x208cd898>"
      ]
     },
     "metadata": {},
     "output_type": "display_data"
    }
   ],
   "source": [
    "AnimateSandpile(video_name='sandpile_v1')"
   ]
  },
  {
   "cell_type": "code",
   "execution_count": null,
   "metadata": {},
   "outputs": [],
   "source": []
  }
 ],
 "metadata": {
  "kernelspec": {
   "display_name": "Python 3",
   "language": "python",
   "name": "python3"
  },
  "language_info": {
   "codemirror_mode": {
    "name": "ipython",
    "version": 3
   },
   "file_extension": ".py",
   "mimetype": "text/x-python",
   "name": "python",
   "nbconvert_exporter": "python",
   "pygments_lexer": "ipython3",
   "version": "3.6.0"
  }
 },
 "nbformat": 4,
 "nbformat_minor": 2
}
