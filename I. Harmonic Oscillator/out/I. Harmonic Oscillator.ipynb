{
 "cells": [
  {
   "cell_type": "markdown",
   "metadata": {},
   "source": [
    "# Computer simulations course 2018/2019-2 @ ELTE\n",
    "# Assignment 1: Harmonic Oscillator\n",
    "## 02.12.2019"
   ]
  },
  {
   "cell_type": "code",
   "execution_count": null,
   "metadata": {},
   "outputs": [],
   "source": [
    "import numpy as np\n",
    "import matplotlib.pyplot as plt\n",
    "import seaborn as sns\n",
    "import os\n",
    "import sys\n",
    "from scipy import stats"
   ]
  },
  {
   "cell_type": "code",
   "execution_count": null,
   "metadata": {},
   "outputs": [],
   "source": [
    "sns.set_style(style='whitegrid')"
   ]
  },
  {
   "cell_type": "code",
   "execution_count": null,
   "metadata": {},
   "outputs": [],
   "source": [
    "omega = 15\n",
    "x_0 = 0\n",
    "v_0 = 5\n",
    "t = 10\n",
    "t_long = 1000\n",
    "dt = 100"
   ]
  },
  {
   "cell_type": "code",
   "execution_count": null,
   "metadata": {},
   "outputs": [],
   "source": [
    "os.system('..\\Release\\sho_e.exe ' + str(omega) + ' ' + str(x_0) + ' ' +  str(v_0) + ' ' + str(t) + ' ' + str(dt))\n",
    "os.system('..\\Release\\sho_ec.exe ' + str(omega) + ' ' + str(x_0) + ' ' +  str(v_0) + ' ' + str(t) + ' ' + str(dt))\n",
    "data_e = np.genfromtxt('sho_e.dat')\n",
    "data_ec = np.genfromtxt('sho_ec.dat')"
   ]
  },
  {
   "cell_type": "code",
   "execution_count": null,
   "metadata": {
    "scrolled": true
   },
   "outputs": [],
   "source": [
    "os.system('..\\Release\\sho_e.exe ' + str(omega) + ' ' + str(x_0) + ' ' +  str(v_0) + ' ' + str(t_long) + ' ' + str(dt))\n",
    "os.system('..\\Release\\sho_ec.exe ' + str(omega) + ' ' + str(x_0) + ' ' +  str(v_0) + ' ' + str(t_long) + ' ' + str(dt))\n",
    "data_e_long = np.genfromtxt('sho_e.dat')\n",
    "data_ec_long = np.genfromtxt('sho_ec.dat')"
   ]
  },
  {
   "cell_type": "code",
   "execution_count": null,
   "metadata": {},
   "outputs": [],
   "source": [
    "steps = 1\n",
    "image_dpi = 150\n",
    "image_format = 'pdf'"
   ]
  },
  {
   "cell_type": "code",
   "execution_count": null,
   "metadata": {},
   "outputs": [],
   "source": [
    "nrows = 2\n",
    "ncols = 1\n",
    "fig, axes = plt.subplots(nrows=nrows, ncols=ncols, figsize=(ncols*14, nrows*7))\n",
    "\n",
    "axes[0].plot(data_e[::steps,0], data_e[::steps,1], color='grey')\n",
    "axes[1].plot(data_e[::steps,0], data_e[::steps,2], color='grey')\n",
    "\n",
    "axes[0].scatter(data_e[::steps,0], data_e[::steps,1], color='red')\n",
    "axes[1].scatter(data_e[::steps,0], data_e[::steps,2], color='green')\n",
    "\n",
    "axes[0].set_ylabel('Deflection', fontsize=40)\n",
    "\n",
    "axes[1].set_xlabel('Time [s]', fontsize=40)\n",
    "axes[1].set_ylabel('Velocity', fontsize=40)\n",
    "\n",
    "axes[0].tick_params(axis='both', which='major', labelsize=30)\n",
    "axes[1].tick_params(axis='both', which='major', labelsize=30)\n",
    "\n",
    "fig.tight_layout()\n",
    "plt.savefig('..\\\\Documentation\\\\src\\\\images\\\\time_def_vel_euler.' + image_format, format=image_format, dpi=image_dpi)\n",
    "plt.show()"
   ]
  },
  {
   "cell_type": "code",
   "execution_count": null,
   "metadata": {},
   "outputs": [],
   "source": [
    "nrows = 2\n",
    "ncols = 1\n",
    "fig, axes = plt.subplots(nrows=nrows, ncols=ncols, figsize=(ncols*14, nrows*7))\n",
    "\n",
    "axes[0].plot(data_ec[::steps,0], data_ec[::steps,1], color='grey')\n",
    "axes[1].plot(data_ec[::steps,0], data_ec[::steps,2], color='grey')\n",
    "\n",
    "axes[0].scatter(data_ec[::steps,0], data_ec[::steps,1], color='red')\n",
    "axes[1].scatter(data_ec[::steps,0], data_ec[::steps,2], color='green')\n",
    "\n",
    "axes[0].set_ylabel('Deflection', fontsize=40)\n",
    "\n",
    "axes[1].set_xlabel('Time [s]', fontsize=40)\n",
    "axes[1].set_ylabel('Velocity', fontsize=40)\n",
    "\n",
    "axes[0].tick_params(axis='both', which='major', labelsize=30)\n",
    "axes[1].tick_params(axis='both', which='major', labelsize=30)\n",
    "\n",
    "fig.tight_layout()\n",
    "plt.savefig('..\\\\Documentation\\\\src\\\\images\\\\time_def_vel_eulercromer.' + image_format, format=image_format, dpi=image_dpi)\n",
    "plt.show()"
   ]
  },
  {
   "cell_type": "code",
   "execution_count": null,
   "metadata": {},
   "outputs": [],
   "source": [
    "nrows = 2\n",
    "ncols = 1\n",
    "fig, axes = plt.subplots(nrows=nrows, ncols=ncols, figsize=(ncols*14, nrows*7))\n",
    "\n",
    "#axes.plot(data[::steps,1], data[::steps,2], color='grey')\n",
    "axes[0].scatter(data_e[::steps,1], data_e[::steps,2], color='red')\n",
    "axes[1].scatter(data_e_long[::steps,1], data_e_long[::steps,2], color='red')\n",
    "\n",
    "axes[0].scatter(data_e[-1,1], data_e[-1,2], color='green', marker='x', s=2000, linewidth=5)\n",
    "axes[0].scatter(data_e[0,1], data_e[0,2], color='blue', marker='x', s=2000, linewidth=5)\n",
    "axes[1].scatter(data_e_long[-1,1], data_e_long[-1,2], color='green', marker='x', s=2000, linewidth=5)\n",
    "axes[1].scatter(data_e_long[0,1], data_e_long[0,2], color='blue', marker='x', s=2000, linewidth=5)\n",
    "\n",
    "axes[0].set_ylabel('Velocity', fontsize=40)\n",
    "axes[1].set_xlabel('Deflection [$1/10^{85}$]', fontsize=40)\n",
    "axes[1].set_ylabel('Velocity [$1/10^{86}$]', fontsize=40)\n",
    "\n",
    "axes[0].tick_params(axis='both', which='major', labelsize=30)\n",
    "axes[1].tick_params(axis='both', which='major', labelsize=30)\n",
    "\n",
    "\n",
    "fig.tight_layout()\n",
    "plt.savefig('..\\\\Documentation\\\\src\\\\images\\\\def_vel_long_euler.' + image_format, format=image_format, dpi=image_dpi)\n",
    "plt.show()"
   ]
  },
  {
   "cell_type": "code",
   "execution_count": null,
   "metadata": {},
   "outputs": [],
   "source": [
    "nrows = 2\n",
    "ncols = 1\n",
    "fig, axes = plt.subplots(nrows=nrows, ncols=ncols, figsize=(ncols*14, nrows*7))\n",
    "\n",
    "#axes.plot(data[::steps,1], data[::steps,2], color='grey')\n",
    "axes[0].scatter(data_ec[::steps,1], data_ec[::steps,2], color='red')\n",
    "axes[1].scatter(data_ec_long[::steps,1], data_ec_long[::steps,2], color='red')\n",
    "\n",
    "axes[0].scatter(data_ec[-1,1], data_ec[-1,2], color='green', marker='x', s=2000, linewidth=5)\n",
    "axes[0].scatter(data_ec[0,1], data_ec[0,2], color='blue', marker='x', s=2000, linewidth=5)\n",
    "axes[1].scatter(data_ec_long[-1,1], data_ec_long[-1,2], color='green', marker='x', s=2000, linewidth=5)\n",
    "axes[1].scatter(data_ec_long[0,1], data_ec_long[0,2], color='blue', marker='x', s=2000, linewidth=5)\n",
    "\n",
    "axes[0].set_ylabel('Velocity', fontsize=40)\n",
    "axes[1].set_xlabel('Deflection', fontsize=40)\n",
    "axes[1].set_ylabel('Velocity', fontsize=40)\n",
    "\n",
    "axes[0].tick_params(axis='both', which='major', labelsize=30)\n",
    "axes[1].tick_params(axis='both', which='major', labelsize=30)\n",
    "\n",
    "fig.tight_layout()\n",
    "plt.savefig('..\\\\Documentation\\\\src\\\\images\\\\def_vel_long_eulercromer.' + image_format, format=image_format, dpi=image_dpi)\n",
    "plt.show()"
   ]
  },
  {
   "cell_type": "code",
   "execution_count": null,
   "metadata": {},
   "outputs": [],
   "source": [
    "nrows = 3\n",
    "ncols = 1\n",
    "fig, axes = plt.subplots(nrows=nrows, ncols=ncols, figsize=(ncols*14, nrows*7))\n",
    "\n",
    "axes[0].plot(data_e[::steps,0], data_e[::steps,3], color='grey')\n",
    "axes[1].plot(data_e[::steps,1], data_e[::steps,3], color='grey')\n",
    "axes[2].plot(data_e[::steps,2], data_e[::steps,3], color='grey')\n",
    "\n",
    "axes[0].scatter(data_e[::steps,0], data_e[::steps,3], color='red')\n",
    "axes[1].scatter(data_e[::steps,1], data_e[::steps,3], color='green')\n",
    "axes[2].scatter(data_e[::steps,2], data_e[::steps,3], color='blue')\n",
    "\n",
    "axes[0].set_xlabel('Time [s]', fontsize=40)\n",
    "axes[0].set_ylabel('Energy', fontsize=40)\n",
    "axes[1].set_xlabel('Deflection', fontsize=40)\n",
    "axes[1].set_ylabel('Energy', fontsize=40)\n",
    "axes[2].set_xlabel('Velocity', fontsize=40)\n",
    "axes[2].set_ylabel('Energy', fontsize=40)\n",
    "\n",
    "axes[0].tick_params(axis='both', which='major', labelsize=30)\n",
    "axes[1].tick_params(axis='both', which='major', labelsize=30)\n",
    "axes[2].tick_params(axis='both', which='major', labelsize=30)\n",
    "\n",
    "fig.tight_layout()\n",
    "plt.savefig('..\\\\Documentation\\\\src\\\\images\\\\energy_euler.' + image_format, format=image_format, dpi=image_dpi)\n",
    "plt.show()"
   ]
  },
  {
   "cell_type": "code",
   "execution_count": null,
   "metadata": {},
   "outputs": [],
   "source": [
    "nrows = 3\n",
    "ncols = 1\n",
    "fig, axes = plt.subplots(nrows=nrows, ncols=ncols, figsize=(ncols*14, nrows*7))\n",
    "\n",
    "axes[0].plot(data_ec[::steps,0], data_ec[::steps,3], color='grey')\n",
    "axes[1].plot(data_ec[::steps,1], data_ec[::steps,3], color='grey')\n",
    "axes[2].plot(data_ec[::steps,2], data_ec[::steps,3], color='grey')\n",
    "\n",
    "axes[0].scatter(data_ec[::steps,0], data_ec[::steps,3], color='red')\n",
    "axes[1].scatter(data_ec[::steps,1], data_ec[::steps,3], color='green')\n",
    "axes[2].scatter(data_ec[::steps,2], data_ec[::steps,3], color='blue')\n",
    "\n",
    "axes[0].set_xlabel('Time [s]', fontsize=40)\n",
    "axes[0].set_ylabel('Energy', fontsize=40)\n",
    "axes[1].set_xlabel('Deflection', fontsize=40)\n",
    "axes[1].set_ylabel('Energy', fontsize=40)\n",
    "axes[2].set_xlabel('Velocity', fontsize=40)\n",
    "axes[2].set_ylabel('Energy', fontsize=40)\n",
    "\n",
    "axes[0].tick_params(axis='both', which='major', labelsize=30)\n",
    "axes[1].tick_params(axis='both', which='major', labelsize=30)\n",
    "axes[2].tick_params(axis='both', which='major', labelsize=30)\n",
    "\n",
    "fig.tight_layout()\n",
    "plt.savefig('..\\\\Documentation\\\\src\\\\images\\\\energy_eulercromer.' + image_format, format=image_format, dpi=image_dpi)\n",
    "plt.show()"
   ]
  },
  {
   "cell_type": "code",
   "execution_count": null,
   "metadata": {},
   "outputs": [],
   "source": [
    "t_min = 10\n",
    "t_max = 130\n",
    "\n",
    "run_time_data = np.array([x for x in range(t_min, t_max+1)])\n",
    "run_time_e = np.empty((t_max+1 - t_min))\n",
    "run_time_ec = np.empty((t_max+1 - t_min))\n",
    "\n",
    "index = 0\n",
    "for time in range(t_min, t_max+1):\n",
    "    os.system('..\\Release\\sho_e.exe ' + str(omega) + ' ' + str(x_0) + ' ' +  str(v_0) + ' ' + str(time) + ' ' + str(dt))\n",
    "    os.system('..\\Release\\sho_ec.exe ' + str(omega) + ' ' + str(x_0) + ' ' +  str(v_0) + ' ' + str(time) + ' ' + str(dt))\n",
    "    data_time_e = np.genfromtxt('sho_e.dat')\n",
    "    data_time_ec = np.genfromtxt('sho_ec.dat')\n",
    "    \n",
    "    run_time_e[index] = data_time_e[-1,4]\n",
    "    run_time_ec[index] = data_time_ec[-1,4]\n",
    "    sys.stdout.write(\"\\r {0}\".format(index))\n",
    "    sys.stdout.flush()\n",
    "    \n",
    "    index += 1"
   ]
  },
  {
   "cell_type": "code",
   "execution_count": null,
   "metadata": {},
   "outputs": [],
   "source": [
    "slope_e, intercept_e, r_value_e, p_value_e, std_err_e = stats.linregress(run_time_data, run_time_e)\n",
    "slope_ec, intercept_ec, r_value_ec, p_value_ec, std_err_ec = stats.linregress(run_time_data, run_time_ec)\n",
    "\n",
    "line_e = slope_e * run_time_data + intercept_e\n",
    "line_ec = slope_ec * run_time_data + intercept_ec"
   ]
  },
  {
   "cell_type": "code",
   "execution_count": null,
   "metadata": {},
   "outputs": [],
   "source": [
    "nrows = 2\n",
    "ncols = 1\n",
    "fig, axes = plt.subplots(nrows=nrows, ncols=ncols, figsize=(14*ncols, 7*nrows))\n",
    "\n",
    "axes[0].scatter(run_time_data, run_time_e, color='red')\n",
    "axes[0].plot(run_time_data, line_e, color='grey', linewidth=4)\n",
    "\n",
    "axes[1].scatter(run_time_data, run_time_ec, color='green')\n",
    "axes[1].plot(run_time_data, line_ec, color='grey', linewidth=4)\n",
    "\n",
    "axes[0].set_xlabel('Number of periods', fontsize=40)\n",
    "axes[0].set_ylabel('Time [$\\mu s$]', fontsize=40)\n",
    "axes[1].set_xlabel('Number of periods', fontsize=40)\n",
    "axes[1].set_ylabel('Time [$\\mu s$]', fontsize=40)\n",
    "\n",
    "axes[0].tick_params(axis='both', which='major', labelsize=30)\n",
    "axes[1].tick_params(axis='both', which='major', labelsize=30)\n",
    "\n",
    "fig.tight_layout()\n",
    "plt.savefig('..\\\\Documentation\\\\src\\\\images\\\\runtime.' + image_format, format=image_format, dpi=image_dpi)\n",
    "plt.show()"
   ]
  },
  {
   "cell_type": "code",
   "execution_count": null,
   "metadata": {},
   "outputs": [],
   "source": [
    "nrows = 1\n",
    "ncols = 1\n",
    "fig, axes = plt.subplots(nrows=nrows, ncols=ncols, figsize=(14*ncols, 7*nrows))\n",
    "\n",
    "axes.scatter(run_time_data, run_time_e, color='red', label='Euler', s=80)\n",
    "axes.scatter(run_time_data, run_time_ec, color='green', label='Euler-Cromer', s=80)\n",
    "axes.plot(run_time_data, line_e, color='black', linewidth=4)\n",
    "axes.plot(run_time_data, line_ec, color='black', linewidth=4)\n",
    "\n",
    "\n",
    "axes.set_xlabel('Number of periods', fontsize=40)\n",
    "axes.set_ylabel('Time [$\\mu s$]', fontsize=40)\n",
    "\n",
    "axes.tick_params(axis='both', which='major', labelsize=30)\n",
    "\n",
    "plt.legend(fontsize=30)\n",
    "fig.tight_layout()\n",
    "plt.savefig('..\\\\Documentation\\\\src\\\\images\\\\runtime_both.' + image_format, format=image_format, dpi=image_dpi)\n",
    "plt.show()"
   ]
  },
  {
   "cell_type": "code",
   "execution_count": null,
   "metadata": {},
   "outputs": [],
   "source": [
    "print(\"slope:\", slope_e,\n",
    "      \"\\nintercept:\", intercept_e,\n",
    "      \"\\nr_value:\", r_value_e,\n",
    "      \"\\np_value:\", p_value_e,\n",
    "      \"\\nstd_err:\", std_err_e)\n",
    "\n",
    "print(\"\\nslope:\", slope_ec,\n",
    "      \"\\nintercept:\", intercept_ec,\n",
    "      \"\\nr_value:\", r_value_ec,\n",
    "      \"\\np_value:\", p_value_ec,\n",
    "      \"\\nstd_err:\", std_err_ec)"
   ]
  },
  {
   "cell_type": "code",
   "execution_count": null,
   "metadata": {},
   "outputs": [],
   "source": []
  }
 ],
 "metadata": {
  "kernelspec": {
   "display_name": "Python 3",
   "language": "python",
   "name": "python3"
  },
  "language_info": {
   "codemirror_mode": {
    "name": "ipython",
    "version": 3
   },
   "file_extension": ".py",
   "mimetype": "text/x-python",
   "name": "python",
   "nbconvert_exporter": "python",
   "pygments_lexer": "ipython3",
   "version": "3.9.2"
  }
 },
 "nbformat": 4,
 "nbformat_minor": 4
}
